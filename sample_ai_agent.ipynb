{
 "cells": [
  {
   "cell_type": "markdown",
   "metadata": {},
   "source": [
    "# Installation"
   ]
  },
  {
   "cell_type": "code",
   "execution_count": null,
   "metadata": {},
   "outputs": [],
   "source": [
    "# pip install -r requirements.txt"
   ]
  },
  {
   "cell_type": "code",
   "execution_count": 19,
   "metadata": {},
   "outputs": [
    {
     "name": "stdout",
     "output_type": "stream",
     "text": [
      "Sat Feb  8 14:58:18 2025       \n",
      "+-----------------------------------------------------------------------------------------+\n",
      "| NVIDIA-SMI 566.03                 Driver Version: 566.03         CUDA Version: 12.7     |\n",
      "|-----------------------------------------+------------------------+----------------------+\n",
      "| GPU  Name                  Driver-Model | Bus-Id          Disp.A | Volatile Uncorr. ECC |\n",
      "| Fan  Temp   Perf          Pwr:Usage/Cap |           Memory-Usage | GPU-Util  Compute M. |\n",
      "|                                         |                        |               MIG M. |\n",
      "|=========================================+========================+======================|\n",
      "|   0  NVIDIA GeForce RTX 3060      WDDM  |   00000000:01:00.0  On |                  N/A |\n",
      "| 44%   49C    P0             47W /  170W |    1399MiB /  12288MiB |      0%      Default |\n",
      "|                                         |                        |                  N/A |\n",
      "+-----------------------------------------+------------------------+----------------------+\n",
      "                                                                                         \n",
      "+-----------------------------------------------------------------------------------------+\n",
      "| Processes:                                                                              |\n",
      "|  GPU   GI   CI        PID   Type   Process name                              GPU Memory |\n",
      "|        ID   ID                                                               Usage      |\n",
      "|=========================================================================================|\n",
      "|    0   N/A  N/A      1864    C+G   C:\\Windows\\System32\\ShellHost.exe           N/A      |\n",
      "|    0   N/A  N/A      3392    C+G   ...s\\System32\\ApplicationFrameHost.exe      N/A      |\n",
      "|    0   N/A  N/A      3728    C+G   ...GeForce Experience\\NVIDIA Share.exe      N/A      |\n",
      "|    0   N/A  N/A      8380    C+G   ...inaries\\Win64\\EpicGamesLauncher.exe      N/A      |\n",
      "|    0   N/A  N/A     10156    C+G   ...siveControlPanel\\SystemSettings.exe      N/A      |\n",
      "|    0   N/A  N/A     11256    C+G   ...ekyb3d8bbwe\\PhoneExperienceHost.exe      N/A      |\n",
      "|    0   N/A  N/A     11724    C+G   ...m Files\\Mozilla Firefox\\firefox.exe      N/A      |\n",
      "|    0   N/A  N/A     12612    C+G   ...Programs\\Microsoft VS Code\\Code.exe      N/A      |\n",
      "|    0   N/A  N/A     12840    C+G   ...5n1h2txyewy\\ShellExperienceHost.exe      N/A      |\n",
      "|    0   N/A  N/A     12948    C+G   ...al\\Discord\\app-1.0.9181\\Discord.exe      N/A      |\n",
      "|    0   N/A  N/A     14960    C+G   ...US\\ArmouryDevice\\asus_framework.exe      N/A      |\n",
      "|    0   N/A  N/A     15532    C+G   ...ne\\Binaries\\Win64\\EpicWebHelper.exe      N/A      |\n",
      "|    0   N/A  N/A     19840    C+G   ...2.0_x64__cv1g1gvanyjgm\\WhatsApp.exe      N/A      |\n",
      "|    0   N/A  N/A     25796    C+G   ...nt.CBS_cw5n1h2txyewy\\SearchHost.exe      N/A      |\n",
      "|    0   N/A  N/A     28732    C+G   ...2txyewy\\StartMenuExperienceHost.exe      N/A      |\n",
      "|    0   N/A  N/A     29240    C+G   ...m Files\\Mozilla Firefox\\firefox.exe      N/A      |\n",
      "|    0   N/A  N/A     31300    C+G   ...CBS_cw5n1h2txyewy\\TextInputHost.exe      N/A      |\n",
      "|    0   N/A  N/A     32944    C+G   ...n\\132.0.2957.140\\msedgewebview2.exe      N/A      |\n",
      "|    0   N/A  N/A     33056    C+G   ...t.LockApp_cw5n1h2txyewy\\LockApp.exe      N/A      |\n",
      "|    0   N/A  N/A     33308    C+G   ...tionsPlus\\logioptionsplus_agent.exe      N/A      |\n",
      "|    0   N/A  N/A     33400    C+G   ....0_x64__8wekyb3d8bbwe\\HxOutlook.exe      N/A      |\n",
      "|    0   N/A  N/A     36388    C+G   C:\\Windows\\explorer.exe                     N/A      |\n",
      "|    0   N/A  N/A     38384    C+G   ... Stream\\103.0.3.0\\GoogleDriveFS.exe      N/A      |\n",
      "|    0   N/A  N/A     38788    C+G   ...AppData\\Roaming\\Spotify\\Spotify.exe      N/A      |\n",
      "+-----------------------------------------------------------------------------------------+\n"
     ]
    }
   ],
   "source": [
    "!nvidia-smi"
   ]
  },
  {
   "cell_type": "code",
   "execution_count": 10,
   "metadata": {},
   "outputs": [
    {
     "name": "stdout",
     "output_type": "stream",
     "text": [
      "Requirement already satisfied: faiss-cpu in c:\\users\\admin\\desktop\\aipoint projects\\.venv\\lib\\site-packages (1.10.0)\n",
      "Note: you may need to restart the kernel to use updated packages.\n"
     ]
    },
    {
     "name": "stderr",
     "output_type": "stream",
     "text": [
      "ERROR: Could not find a version that satisfies the requirement faiss-gpu-cu12 (from versions: none)\n",
      "ERROR: No matching distribution found for faiss-gpu-cu12\n"
     ]
    }
   ],
   "source": [
    "pip install faiss-cpu faiss-gpu-cu12"
   ]
  },
  {
   "cell_type": "markdown",
   "metadata": {},
   "source": [
    "# AI Agent Development"
   ]
  },
  {
   "cell_type": "markdown",
   "metadata": {},
   "source": [
    "**Loading the environment variables (from .env file):**\n",
    "\n",
    "- USER_AGENT\n",
    "- OPENAI_API_KEY\n",
    "- TAVILY_API_KEY\n",
    "- HUGGINGFACEHUB_API_TOKEN"
   ]
  },
  {
   "cell_type": "code",
   "execution_count": 1,
   "metadata": {},
   "outputs": [
    {
     "data": {
      "text/plain": [
       "True"
      ]
     },
     "execution_count": 1,
     "metadata": {},
     "output_type": "execute_result"
    }
   ],
   "source": [
    "from dotenv import load_dotenv\n",
    "\n",
    "load_dotenv()                   # Loading API key from .env file"
   ]
  },
  {
   "cell_type": "markdown",
   "metadata": {},
   "source": [
    "## A) Tools"
   ]
  },
  {
   "cell_type": "markdown",
   "metadata": {},
   "source": [
    "### 1.Retriever Tool"
   ]
  },
  {
   "cell_type": "code",
   "execution_count": 2,
   "metadata": {},
   "outputs": [],
   "source": [
    "from langchain_text_splitters import RecursiveCharacterTextSplitter\n",
    "from langchain_community.document_loaders import WebBaseLoader\n",
    "from langchain.tools.retriever import create_retriever_tool\n",
    "from langchain_community.vectorstores import FAISS"
   ]
  },
  {
   "cell_type": "markdown",
   "metadata": {},
   "source": [
    "Document:"
   ]
  },
  {
   "cell_type": "code",
   "execution_count": 3,
   "metadata": {},
   "outputs": [
    {
     "name": "stdout",
     "output_type": "stream",
     "text": [
      "https://www.dasa.org\n",
      "DASA\n",
      "Transform Your Enterprise Into a High-Performance Digital Organization Tools and expertise to create agile, resilient software teams that drive lasting digital\n",
      "# Documents: 2\n"
     ]
    }
   ],
   "source": [
    "loader = WebBaseLoader(\"https://www.dasa.org\")\n",
    "docs = loader.load()\n",
    "\n",
    "print(docs[0].metadata['source'])\n",
    "print(docs[0].metadata['title'])\n",
    "print(docs[0].metadata['description'])\n",
    "\n",
    "text_splitter = RecursiveCharacterTextSplitter()\n",
    "documents = text_splitter.split_documents(docs)\n",
    "print(\"# Documents:\",len(documents))"
   ]
  },
  {
   "cell_type": "markdown",
   "metadata": {},
   "source": [
    "#### - Embedding"
   ]
  },
  {
   "cell_type": "markdown",
   "metadata": {},
   "source": [
    "Open AI"
   ]
  },
  {
   "cell_type": "code",
   "execution_count": 4,
   "metadata": {},
   "outputs": [],
   "source": [
    "from langchain_openai import OpenAIEmbeddings\n",
    "\n",
    "embedding_model = OpenAIEmbeddings()"
   ]
  },
  {
   "cell_type": "markdown",
   "metadata": {},
   "source": [
    "HuggingFace"
   ]
  },
  {
   "cell_type": "code",
   "execution_count": 4,
   "metadata": {},
   "outputs": [],
   "source": [
    "from langchain_huggingface import HuggingFaceEmbeddings\n",
    "\n",
    "# Use an open-source embedding model\n",
    "embedding_model = HuggingFaceEmbeddings(model_name=\"sentence-transformers/all-MiniLM-L6-v2\")"
   ]
  },
  {
   "cell_type": "code",
   "execution_count": 5,
   "metadata": {},
   "outputs": [],
   "source": [
    "vector = FAISS.from_documents(documents, embedding_model)\n",
    "retriever = vector.as_retriever()\n",
    "retriever_tool = create_retriever_tool (retriever, \"DASA_search\", \"Search for information about DASA. For any questions about DASA, you must use this tool\")"
   ]
  },
  {
   "cell_type": "markdown",
   "metadata": {},
   "source": [
    "### 2. Web Search Tool"
   ]
  },
  {
   "cell_type": "code",
   "execution_count": 6,
   "metadata": {},
   "outputs": [],
   "source": [
    "from langchain_community.tools.tavily_search import TavilySearchResults\n",
    "\n",
    "search_tool = TavilySearchResults()"
   ]
  },
  {
   "cell_type": "markdown",
   "metadata": {},
   "source": [
    "## B) AI Agent"
   ]
  },
  {
   "cell_type": "code",
   "execution_count": 7,
   "metadata": {},
   "outputs": [],
   "source": [
    "tools = [retriever_tool, search_tool]"
   ]
  },
  {
   "cell_type": "markdown",
   "metadata": {},
   "source": [
    "### 1. Prompt Template"
   ]
  },
  {
   "cell_type": "markdown",
   "metadata": {},
   "source": [
    "#### - OpenAI Prompt Template:\n",
    "\n",
    "- LangChain Hub allows access to predefined prompts, chains, and agents.\n",
    "- The pulled prompt template designed for OpenAI's function calling capabilities. It is typically formatted for use with OpenAI GPT models in an agent-based setup"
   ]
  },
  {
   "cell_type": "code",
   "execution_count": 8,
   "metadata": {},
   "outputs": [
    {
     "name": "stderr",
     "output_type": "stream",
     "text": [
      "c:\\Users\\Admin\\Desktop\\AIPoint Projects\\AI Agent Development\\.venv\\Lib\\site-packages\\langsmith\\client.py:253: LangSmithMissingAPIKeyWarning: API key must be provided when using hosted LangSmith API\n",
      "  warnings.warn(\n"
     ]
    },
    {
     "data": {
      "text/plain": [
       "ChatPromptTemplate(input_variables=['agent_scratchpad', 'input'], optional_variables=['chat_history'], input_types={'chat_history': list[typing.Annotated[typing.Union[typing.Annotated[langchain_core.messages.ai.AIMessage, Tag(tag='ai')], typing.Annotated[langchain_core.messages.human.HumanMessage, Tag(tag='human')], typing.Annotated[langchain_core.messages.chat.ChatMessage, Tag(tag='chat')], typing.Annotated[langchain_core.messages.system.SystemMessage, Tag(tag='system')], typing.Annotated[langchain_core.messages.function.FunctionMessage, Tag(tag='function')], typing.Annotated[langchain_core.messages.tool.ToolMessage, Tag(tag='tool')], typing.Annotated[langchain_core.messages.ai.AIMessageChunk, Tag(tag='AIMessageChunk')], typing.Annotated[langchain_core.messages.human.HumanMessageChunk, Tag(tag='HumanMessageChunk')], typing.Annotated[langchain_core.messages.chat.ChatMessageChunk, Tag(tag='ChatMessageChunk')], typing.Annotated[langchain_core.messages.system.SystemMessageChunk, Tag(tag='SystemMessageChunk')], typing.Annotated[langchain_core.messages.function.FunctionMessageChunk, Tag(tag='FunctionMessageChunk')], typing.Annotated[langchain_core.messages.tool.ToolMessageChunk, Tag(tag='ToolMessageChunk')]], FieldInfo(annotation=NoneType, required=True, discriminator=Discriminator(discriminator=<function _get_type at 0x000001CC1CB4E2A0>, custom_error_type=None, custom_error_message=None, custom_error_context=None))]], 'agent_scratchpad': list[typing.Annotated[typing.Union[typing.Annotated[langchain_core.messages.ai.AIMessage, Tag(tag='ai')], typing.Annotated[langchain_core.messages.human.HumanMessage, Tag(tag='human')], typing.Annotated[langchain_core.messages.chat.ChatMessage, Tag(tag='chat')], typing.Annotated[langchain_core.messages.system.SystemMessage, Tag(tag='system')], typing.Annotated[langchain_core.messages.function.FunctionMessage, Tag(tag='function')], typing.Annotated[langchain_core.messages.tool.ToolMessage, Tag(tag='tool')], typing.Annotated[langchain_core.messages.ai.AIMessageChunk, Tag(tag='AIMessageChunk')], typing.Annotated[langchain_core.messages.human.HumanMessageChunk, Tag(tag='HumanMessageChunk')], typing.Annotated[langchain_core.messages.chat.ChatMessageChunk, Tag(tag='ChatMessageChunk')], typing.Annotated[langchain_core.messages.system.SystemMessageChunk, Tag(tag='SystemMessageChunk')], typing.Annotated[langchain_core.messages.function.FunctionMessageChunk, Tag(tag='FunctionMessageChunk')], typing.Annotated[langchain_core.messages.tool.ToolMessageChunk, Tag(tag='ToolMessageChunk')]], FieldInfo(annotation=NoneType, required=True, discriminator=Discriminator(discriminator=<function _get_type at 0x000001CC1CB4E2A0>, custom_error_type=None, custom_error_message=None, custom_error_context=None))]]}, partial_variables={'chat_history': []}, metadata={'lc_hub_owner': 'hwchase17', 'lc_hub_repo': 'openai-functions-agent', 'lc_hub_commit_hash': 'a1655024b06afbd95d17449f21316291e0726f13dcfaf990cc0d18087ad689a5'}, messages=[SystemMessagePromptTemplate(prompt=PromptTemplate(input_variables=[], input_types={}, partial_variables={}, template='You are a helpful assistant'), additional_kwargs={}), MessagesPlaceholder(variable_name='chat_history', optional=True), HumanMessagePromptTemplate(prompt=PromptTemplate(input_variables=['input'], input_types={}, partial_variables={}, template='{input}'), additional_kwargs={}), MessagesPlaceholder(variable_name='agent_scratchpad')])"
      ]
     },
     "execution_count": 8,
     "metadata": {},
     "output_type": "execute_result"
    }
   ],
   "source": [
    "from langchain import hub\n",
    "\n",
    "prompt = hub.pull(\"hwchase17/openai-functions-agent\")\n",
    "prompt"
   ]
  },
  {
   "cell_type": "markdown",
   "metadata": {},
   "source": [
    "#### - Custome Prompt Template\n",
    "\n",
    "For using the open-sourced llms."
   ]
  },
  {
   "cell_type": "code",
   "execution_count": 8,
   "metadata": {},
   "outputs": [
    {
     "name": "stdout",
     "output_type": "stream",
     "text": [
      "<s>[INST] <<SYS>>\n",
      "You are a helpful AI assistant. Follow the instructions carefully.\n",
      "<</SYS>>\n",
      "Explain machine learning in simple terms. [/INST]\n"
     ]
    }
   ],
   "source": [
    "from langchain.prompts import PromptTemplate\n",
    "\n",
    "instruction_template = PromptTemplate(\n",
    "    input_variables=[\"input\"],\n",
    "    template=(\n",
    "        \"<s>[INST] <<SYS>>\\nYou are a helpful AI assistant. Follow the instructions carefully.\\n<</SYS>>\\n\"\n",
    "        \"{input} [/INST]\"\n",
    "    )\n",
    ")\n",
    "\n",
    "# Test the template\n",
    "formatted_prompt = instruction_template.format(input=\"Explain machine learning in simple terms.\")\n",
    "print(formatted_prompt)\n"
   ]
  },
  {
   "cell_type": "markdown",
   "metadata": {},
   "source": [
    "### 2. Loading the LLM"
   ]
  },
  {
   "cell_type": "markdown",
   "metadata": {},
   "source": [
    "#### - OpenAI LLMs"
   ]
  },
  {
   "cell_type": "code",
   "execution_count": 9,
   "metadata": {},
   "outputs": [],
   "source": [
    "from langchain_openai import ChatOpenAI\n",
    "\n",
    "llm = ChatOpenAI()"
   ]
  },
  {
   "cell_type": "markdown",
   "metadata": {},
   "source": [
    "#### - Open-source LLMs"
   ]
  },
  {
   "cell_type": "markdown",
   "metadata": {},
   "source": [
    "##### -- Running Locally"
   ]
  },
  {
   "cell_type": "code",
   "execution_count": null,
   "metadata": {},
   "outputs": [],
   "source": [
    "from langchain_community.llms import HuggingFacePipeline\n",
    "from transformers import AutoModelForCausalLM, AutoTokenizer, pipeline\n",
    "\n",
    "model_name = \"mistralai/Mistral-7B-Instruct\"  # Replace with your preferred model\n",
    "\n",
    "# Load model and tokenizer\n",
    "tokenizer = AutoTokenizer.from_pretrained(model_name)\n",
    "model = AutoModelForCausalLM.from_pretrained(model_name, device_map=\"auto\")\n",
    "\n",
    "# Create text generation pipeline\n",
    "text_gen_pipeline = pipeline(\n",
    "    \"text-generation\",\n",
    "    model=model,\n",
    "    tokenizer=tokenizer,\n",
    "    max_new_tokens=256\n",
    ")\n",
    "\n",
    "# Integrate with LangChain\n",
    "llm = HuggingFacePipeline(pipeline=text_gen_pipeline)"
   ]
  },
  {
   "cell_type": "markdown",
   "metadata": {},
   "source": [
    "#### -- Using the API"
   ]
  },
  {
   "cell_type": "code",
   "execution_count": 10,
   "metadata": {},
   "outputs": [],
   "source": [
    "from langchain_community.llms import HuggingFaceHub\n",
    "\n",
    "# Load Mistral via Hugging Face Inference API\n",
    "llm = HuggingFaceHub(\n",
    "    repo_id=\"mistralai/Mistral-7B-Instruct-v0.2\",\n",
    "    model_kwargs={\"temperature\": 0.7, \"max_new_tokens\": 256}\n",
    ")"
   ]
  },
  {
   "cell_type": "markdown",
   "metadata": {},
   "source": [
    "### 3. Creating the Agent"
   ]
  },
  {
   "cell_type": "markdown",
   "metadata": {},
   "source": [
    "#### - OpenAI-based Agent"
   ]
  },
  {
   "cell_type": "code",
   "execution_count": 10,
   "metadata": {},
   "outputs": [],
   "source": [
    "from langchain.agents import create_openai_functions_agent\n",
    "from langchain.agents import AgentExecutor\n",
    "\n",
    "agent = create_openai_functions_agent(llm, tools ,prompt)\n",
    "agent_executor=AgentExecutor(agent = agent, tools = tools, verbose = True)"
   ]
  },
  {
   "cell_type": "markdown",
   "metadata": {},
   "source": [
    "#### -Open-source Agent"
   ]
  },
  {
   "cell_type": "code",
   "execution_count": 11,
   "metadata": {},
   "outputs": [
    {
     "name": "stderr",
     "output_type": "stream",
     "text": [
      "C:\\Users\\Admin\\AppData\\Local\\Temp\\ipykernel_14324\\1136816465.py:4: LangChainDeprecationWarning: LangChain agents will continue to be supported, but it is recommended for new use cases to be built with LangGraph. LangGraph offers a more flexible and full-featured framework for building agents, including support for tool-calling, persistence of state, and human-in-the-loop workflows. For details, refer to the `LangGraph documentation <https://langchain-ai.github.io/langgraph/>`_ as well as guides for `Migrating from AgentExecutor <https://python.langchain.com/docs/how_to/migrate_agent/>`_ and LangGraph's `Pre-built ReAct agent <https://langchain-ai.github.io/langgraph/how-tos/create-react-agent/>`_.\n",
      "  agent = initialize_agent(\n"
     ]
    }
   ],
   "source": [
    "from langchain.agents import initialize_agent, AgentType\n",
    "\n",
    "# Initialize Agent with Mistral/Qwen/Falcon\n",
    "agent = initialize_agent(\n",
    "    tools,\n",
    "    llm,\n",
    "    agent=AgentType.ZERO_SHOT_REACT_DESCRIPTION,\n",
    "    verbose=True\n",
    ")"
   ]
  },
  {
   "cell_type": "markdown",
   "metadata": {},
   "source": [
    "### 4. Running the Agent"
   ]
  },
  {
   "cell_type": "markdown",
   "metadata": {},
   "source": [
    "### - OpenAI-based"
   ]
  },
  {
   "cell_type": "code",
   "execution_count": 12,
   "metadata": {},
   "outputs": [
    {
     "name": "stdout",
     "output_type": "stream",
     "text": [
      "\n",
      "\n",
      "\u001b[1m> Entering new AgentExecutor chain...\u001b[0m\n",
      "\u001b[32;1m\u001b[1;3m\n",
      "Invoking: `DASA_search` with `{'query': 'mission of DASA'}`\n",
      "\n",
      "\n",
      "\u001b[0m\u001b[36;1m\u001b[1;3mDASA\n",
      "\n",
      "\n",
      "\n",
      "\n",
      "\n",
      "\n",
      "\n",
      "\n",
      "\n",
      "\n",
      "\n",
      "\n",
      "\n",
      "\n",
      "\n",
      "\n",
      "\n",
      "\n",
      "\n",
      "\n",
      "\n",
      "\n",
      "\n",
      "\n",
      "\n",
      "\n",
      "\n",
      "\n",
      "\n",
      "\n",
      "\n",
      "\n",
      "\n",
      "\n",
      "\n",
      "\n",
      "\n",
      "\n",
      "\n",
      "\n",
      "\n",
      "\n",
      "\n",
      "\n",
      "\n",
      "\n",
      "\n",
      "\n",
      "\n",
      "\n",
      "\n",
      "\n",
      "\n",
      "\n",
      "\n",
      "\n",
      "\n",
      "\n",
      "\n",
      "\n",
      "\n",
      "\n",
      "\n",
      "\n",
      "\n",
      "\n",
      "\n",
      "\n",
      "\n",
      "\n",
      "\n",
      "\n",
      "\n",
      "\n",
      "\n",
      "AboutThe Enterprise Transformation JourneyWhy DASADASA DevOps PrinciplesDASA DevAIOps PrinciplesDASA Intelligent Continuous Security PrinciplesProductsGuidance ProductsDASA Intelligent Continuous Security Value BoxDASA DevAIOps Value BoxComing SoonDASA Platform Engineering Value BoxDASA SRE Next Gen Value BoxDASA Product Management Value BoxDASA Portfolio Management Value BoxDASA Experience Management Value BoxDASA Competency FrameworkDigital Readiness AssessmentCertification ProgramsDASA Intelligent Continuous SecurityDASA DevAlOpsDASA Platform EngineeringDASA SRE Next GenDASA Experience ManagementDASA DevOps LeaderDASA DevOps CoachDASA Product ManagementComing soonDASA DevOps Product OwnerDASA Portfolio ManagementDASA DevOps FundamentalsDASA DevOps Enable and ScaleDASA DevOps Specify and VerifyPartnersTransformation PartnersTraining ProvidersEnterprisesLearnersFor IndividualsFor TeamsTraining CalendarDevOps Team ScorecardWhich Course Is Right for YouFrequently Asked QuestionsCommunityAmbassadorsReview PanelExpert ForumsDASA AwardsDASA HubResourcesArticlesEventsRecordingsPublicationsCourse CalendarGlossaryDevOps Team Scorecard\n",
      "\n",
      "\n",
      "\n",
      "\n",
      "\n",
      "\n",
      "\n",
      "\n",
      "\n",
      "\n",
      "Transform Your Enterprise Into a High-Performance Digital Organization\n",
      "\n",
      "Tools and expertise to create agile, resilient software teams that drive lasting digital success.\n",
      "\n",
      "Schedule a Call to Get Started\n",
      "Download the Free Blueprint\n",
      "\n",
      "\n",
      "\n",
      "\n",
      "\n",
      "\n",
      "\n",
      "DASA is trusted by leading organizations \n",
      "\n",
      "\n",
      "\n",
      "\n",
      "\n",
      "\n",
      "\n",
      "\n",
      "\n",
      "\n",
      "\n",
      "\n",
      "\n",
      "\n",
      "\n",
      "\n",
      "Falling Behind Is Not an Option\n",
      "\n",
      "As industries evolve, outdated processes, siloed teams, and inefficient workflows don’t just slow down digital transformation—they create frustration and limit your ability to deliver lasting value to customers. Without agile, scalable teams and optimized workflows, your organization risks missing key opportunities and falling behind competitors who are innovating faster. Digital transformation should empower you to stay ahead and deliver continuous value, but without the right approach, it becomes a struggle.\n",
      "\n",
      "Take Control of Your Transformation\n",
      "Download the Free Blueprint\n",
      "\n",
      "\n",
      "\n",
      "\n",
      "\n",
      "\n",
      "\n",
      "\n",
      "Practical Guidance to Build High-Performance Teams and Drive Continuous Innovation\n",
      "\n",
      "As the global DevOps and Agile industry body, DASA empowers organizations to transform into high-performance digital organizations. We provide the guidance, training, and community support to help your teams improve efficiency, enhance agility, and deliver value continuously.\n",
      "\n",
      "Schedule a Call to Get Started\n",
      "View all products →\n",
      "\n",
      "\n",
      "\n",
      "\n",
      "\n",
      "\n",
      "\n",
      "\n",
      "Enterprises. Transform your organization with the frameworks, tools, and training to build high-performance teams. Read More\n",
      "\n",
      "\n",
      "\n",
      "\n",
      "\n",
      "\n",
      "Transformation Partners. Guide your clients to success with DASA’s resources and proven methodologies for transformation. Read More\n",
      "\n",
      "\n",
      "\n",
      "\n",
      "\n",
      "\n",
      "Training Providers. Grow your business and attract more clients by delivering in-demand, industry-leading certification programs. Read More\n",
      "\n",
      "\n",
      "\n",
      "\n",
      "\n",
      "\n",
      "Designed to help you move from strategy to execution swiftly, our practical, ready-to-use products reduce the risks of transformation failures and enable your teams to align IT initiatives with business goals across six key themes.\n",
      "\n",
      "\n",
      "\n",
      "\n",
      "\n",
      "\n",
      "Building High-Performance Software Teams\n",
      "Equip your teams with the skills and mindset to innovate, collaborate, and consistently deliver high-quality results.\n",
      "Read More →\n",
      "\n",
      "\n",
      "\n",
      "Wiring the Enterprise for Flow and Value Maximization\n",
      "Optimize workflows to ensure every part of your organization contributes to efficient, high-value outcomes.\n",
      "Read More →\n",
      "\n",
      "\n",
      "\n",
      "Simplifying the Technology Landscape\n",
      "Reduce technology complexity and embrace new practices to enhance agility, scalability, and operational efficiency.\n",
      "Read More →\n",
      "\n",
      "\n",
      "\n",
      "\n",
      "\n",
      "Modernizing IT Operations & Infrastructure\n",
      "Adopt modern IT practices and infrastructure to boost resilience and alignment with business goals.\n",
      "Read More →\n",
      "\n",
      "Modernizing IT Operations & Infrastructure\n",
      "Adopt modern IT practices and infrastructure to boost resilience and alignment with business goals.\n",
      "Read More →\n",
      "\n",
      "\n",
      "\n",
      "Creating a Culture of High Performance\n",
      "Foster a culture of accountability, adaptability, and continuous improvement across teams.\n",
      "Read More →\n",
      "\n",
      "\n",
      "\n",
      "Growing and Developing the Next Generation of Digital Leaders\n",
      "Develop leaders who can drive digital transformation and inspire high-performing, adaptable teams.\n",
      "Read More →\n",
      "\n",
      "\n",
      "\n",
      "\n",
      "\n",
      "\n",
      "\n",
      "\n",
      "\n",
      "\n",
      "\n",
      "DASA is Your Partner for Enterprise Transformation\n",
      "\n",
      "We know how overwhelming it can be to align IT initiatives with business goals while driving continuous innovation. That’s why we’ve developed proven product suites that provide your teams with the training, tools, templates, and guidance they need to succeed. Having worked with some of the world’s largest enterprises, we’ve seen firsthand how our solutions accelerate transformation and deliver real, measurable value.\n",
      "\n",
      "Schedule a Call to Get Started\n",
      "Download the Free Blueprint\n",
      "\n",
      "\n",
      "\n",
      "\n",
      "\n",
      "\n",
      "\n",
      "\n",
      "\n",
      "\n",
      "\n",
      "\n",
      "\n",
      "\n",
      "The Enterprise Transformation Journey\n",
      "Transform into a Digital Winner\n",
      "Each transformation journey is unique, but most follow a similar path. DASA offers the portfolio to navigate this journey, ensuring a personalized yet organized approach tailored to your enterprise’s specific requirements.\n",
      "\n",
      "\n",
      "Learn More\n",
      "\n",
      "\n",
      "\n",
      "\n",
      "\n",
      "\n",
      "Every organization can benefit from the DevOps concepts, the DevOps culture, and the DevOps way of working.\n",
      "— Pieter de Beijer, Capgemini\n",
      "\n",
      "\n",
      "\n",
      "\n",
      "\n",
      "\n",
      "\n",
      "\n",
      "\n",
      "\n",
      "\n",
      "Why DASA\n",
      "Enhance Flow, Agility, and Value\n",
      "Prioritize customer-focused innovation, and foster a culture of agility and teamwork.\n",
      "\n",
      "\n",
      "Learn More\n",
      "\n",
      "\n",
      "\n",
      "\n",
      "\n",
      "\n",
      "Collaborating with DASA gives us the opportunity to be part of something bigger.\n",
      "— Gabriel Casarini, Netmind\n",
      "\n",
      "\n",
      "\n",
      "\n",
      "\n",
      "\n",
      "\n",
      "\n",
      "\n",
      "\n",
      "\n",
      "\n",
      "\n",
      "\n",
      "\n",
      "\n",
      "\n",
      "\n",
      "\n",
      "\n",
      "\n",
      "DASA Principles\n",
      "Accelerate Your Journey\n",
      "DASA emphasizes six key principles crucial for effective adoption and transition to a DevOps-centric approach, underscoring the importance of experiences, ideas, and cultural shifts in becoming a high-performance digital organization.\n",
      "\n",
      "\n",
      "Learn More\n",
      "\n",
      "\n",
      "\n",
      "\n",
      "\n",
      "\n",
      "Technology is evolving more rapidly than ever, and we need to find ways to accelerate the ways we learn to deal with it.\n",
      "— Yoram Meijer, Cegeka\n",
      "\n",
      "\n",
      "\n",
      "\n",
      "\n",
      "\n",
      "\n",
      "\n",
      "\n",
      "\n",
      "\n",
      "\n",
      "\n",
      "\n",
      "Your Blueprint for High-Performance Digital Leadership\n",
      "free publication ○ 39 Pages\n",
      "Lead digital transformation confidently with DASA’s six essential themes for agility, resilience, and impact. Download your free blueprint.\n",
      "\n",
      "\n",
      "Access the Blueprint\n",
      "\n",
      "\n",
      "\n",
      "\n",
      "\n",
      "Quickly identify critical areas for improvement, focusing on attitude, behavior, and team culture.\n",
      "— Marian Draganov, T-Systems\n",
      "\n",
      "\n",
      "\n",
      "\n",
      "\n",
      "\n",
      "\n",
      "\n",
      "Body of Knowledge\n",
      "Featured Insights and Perspectives\n",
      "\n",
      "\n",
      "\n",
      "Transformation Stories\n",
      "Transforming into a High-Performance Digital Organization (HPDO): Six Key Themes\n",
      "Based on extensive research and practical engagement with organizations of varying sizes and across continents, DASA has identified six critical themes essential for achieving High-Performance Digital Organizations (HPDOs). These themes…Read More\n",
      "\n",
      "\n",
      "\n",
      "DASA Platform Engineering\n",
      "Four Challenges of Platform Teams: Insights from ThoughtWorks Experts\n",
      "Platform engineering is crucial to driving innovation, scaling development, and ensuring seamless integration across organizations. As platform engineers, we often face complex challenges that require strategic solutions, a deep understanding…Read More\n",
      "\n",
      "\n",
      "\n",
      "\n",
      "\n",
      "community\n",
      "Featured Events\n",
      "\n",
      "\n",
      "\n",
      "\n",
      "March 6, 2025\n",
      "The 5 Key Principles of DevAIOps\n",
      "English\n",
      "\n",
      "\n",
      "\n",
      "\n",
      "All Events\n",
      "\n",
      "\n",
      "\n",
      "\n",
      "Join DASA\n",
      "\n",
      "DASA has developed a flexible approach to membership to suit the size and requirements of each member organization.\n",
      "\n",
      "\n",
      "See How You Can Join\n",
      "\n",
      "\n",
      "\n",
      "\n",
      "\n",
      "\n",
      "\n",
      "\n",
      "Careers\n",
      "Contact\n",
      "Offices\n",
      "About\n",
      "Privacy Policy\n",
      "Terms of Use\n",
      "Sitemap\n",
      "DASA Hub\n",
      "\n",
      "© 2016－2025 · DASA BV. All rights reserved.\n",
      "Twitter\n",
      "LinkedIn\n",
      "Facebook\u001b[0m\u001b[32;1m\u001b[1;3mThe mission of DASA (DevOps Agile Skills Association) is to empower organizations to transform into high-performance digital organizations by providing guidance, training, and community support to help teams improve efficiency, enhance agility, and deliver value continuously. DASA offers frameworks, tools, training programs, and proven methodologies for enterprise transformation in various key themes such as building high-performance software teams, optimizing workflows, reducing technology complexity, fostering a culture of high performance, developing digital leaders, and more. DASA aims to accelerate the journey towards digital transformation and enable organizations to align IT initiatives with business goals effectively.\u001b[0m\n",
      "\n",
      "\u001b[1m> Finished chain.\u001b[0m\n"
     ]
    },
    {
     "data": {
      "text/plain": [
       "{'input': 'What is the mission of DASA?',\n",
       " 'output': 'The mission of DASA (DevOps Agile Skills Association) is to empower organizations to transform into high-performance digital organizations by providing guidance, training, and community support to help teams improve efficiency, enhance agility, and deliver value continuously. DASA offers frameworks, tools, training programs, and proven methodologies for enterprise transformation in various key themes such as building high-performance software teams, optimizing workflows, reducing technology complexity, fostering a culture of high performance, developing digital leaders, and more. DASA aims to accelerate the journey towards digital transformation and enable organizations to align IT initiatives with business goals effectively.'}"
      ]
     },
     "execution_count": 12,
     "metadata": {},
     "output_type": "execute_result"
    }
   ],
   "source": [
    "Response = agent_executor.invoke({\"input\":\"What is the mission of DASA?\"})\n",
    "Response"
   ]
  },
  {
   "cell_type": "code",
   "execution_count": 13,
   "metadata": {},
   "outputs": [
    {
     "name": "stdout",
     "output_type": "stream",
     "text": [
      "\n",
      "\n",
      "\u001b[1m> Entering new AgentExecutor chain...\u001b[0m\n",
      "\u001b[32;1m\u001b[1;3m\n",
      "Invoking: `tavily_search_results_json` with `{'query': 'weather in Sydney'}`\n",
      "\n",
      "\n",
      "\u001b[0m\u001b[33;1m\u001b[1;3m[{'url': 'https://www.weatherapi.com/', 'content': \"{'location': {'name': 'Sydney', 'region': 'New South Wales', 'country': 'Australia', 'lat': -33.8833, 'lon': 151.2167, 'tz_id': 'Australia/Sydney', 'localtime_epoch': 1739088480, 'localtime': '2025-02-09 19:08'}, 'current': {'last_updated_epoch': 1739088000, 'last_updated': '2025-02-09 19:00', 'temp_c': 26.4, 'temp_f': 79.5, 'is_day': 1, 'condition': {'text': 'Partly cloudy', 'icon': '//cdn.weatherapi.com/weather/64x64/day/116.png', 'code': 1003}, 'wind_mph': 2.7, 'wind_kph': 4.3, 'wind_degree': 93, 'wind_dir': 'E', 'pressure_mb': 1008.0, 'pressure_in': 29.77, 'precip_mm': 1.43, 'precip_in': 0.06, 'humidity': 74, 'cloud': 75, 'feelslike_c': 29.9, 'feelslike_f': 85.7, 'windchill_c': 22.0, 'windchill_f': 71.7, 'heatindex_c': 24.5, 'heatindex_f': 76.1, 'dewpoint_c': 19.6, 'dewpoint_f': 67.3, 'vis_km': 10.0, 'vis_miles': 6.0, 'uv': 0.0, 'gust_mph': 3.9, 'gust_kph': 6.3}}\"}, {'url': 'https://www.easeweather.com/oceania/australia/new-south-wales/sydney/february', 'content': 'Weather in Sydney in February 2025 - Detailed Forecast Weather in Sydney for February 2025 Your guide to Sydney weather in February - trends and predictions The forecast for the first days of February 2025 in Sydney predicts a temperature of 23.4\\xa0°C, which is slightly above the historical average. In general, the average temperature in Sydney at the beginning of February is 22.6\\xa0°C. Sydney experiences heavy rainfall in February, with over 20 rainy days and an average total precipitation 90.3\\xa0mm. Sydney in February average weather Temperatures trend during February in Sydney Sydney in February - FAQ Explore the daily rainfall trends and prepare for Sydneys February weather\\xa0💧'}, {'url': 'https://world-weather.info/forecast/australia/sydney/february-2025/', 'content': \"Weather in Sydney in February 2025 (State of New South Wales) - Detailed Weather Forecast for a Month Weather World Weather in Sydney Weather in Sydney in February 2025 Sydney Weather Forecast for February 2025, is based on previous years' statistical data. +81°+72° +79°+72° +79°+70° +81°+70° +81°+72° +79°+72° +77°+70° +79°+70° +79°+70° +79°+70° +79°+70° +81°+70° +77°+68° +77°+68° +79°+72° +81°+70° +81°+70° +79°+70° +81°+72° +79°+72° +77°+70° +79°+70° +79°+70° +77°+68° +77°+70° +77°+68° +77°+70° +79°+70° Extended weather forecast in Sydney HourlyWeek10-Day14-Day30-DayYear Weather in large and nearby cities Weather in Canberra+63° Singleton+72° Bathurst+61° Goulburn+64° Muswellbrook+70° Orange+57° Forster+68° Batemans Bay+64° Queanbeyan+63° Raymond Terrace+72° Nowra+70° Kurri Kurri+72° Wollongong+70° Lawson+63° Katoomba+59° Kiama+70° Medway+61° The Bight+68° world's temperature today day day Copyright © 2025 «World-Weather.info» All rights reserved. Temperature units\"}, {'url': 'https://www.weather25.com/oceania/australia/new-south-wales/sydney?page=month&month=February', 'content': 'The temperatures in Sydney in February are comfortable with low of 19°C and and high up to 28°C. You can expect about 3 to 8 days of rain in Sydney during the'}, {'url': 'https://www.weather2travel.com/new-south-wales/sydney/february/', 'content': 'Sydney weather in February 2025 | New South Wales Holidays Sydney weather in February 2025 Expect 26°C daytime maximum temperatures in the shade with on average 7 hours of sunshine per day in Sydney in February. Check more long-term weather averages for Sydney in February before you book your next holiday to New South Wales in 2025/2026. Summer holidays More holidays Travel Republic: Top deals on last minute holidays January sales Handpicked travel deals & holiday discounts Where to go in 2025 Explore destinations to visit on holiday in 2025 We help you find the best travel deals for your holiday in the sun by sharing tips on when and where to go, before providing you with top discounts. Holidays'}]\u001b[0m\u001b[32;1m\u001b[1;3mThe current weather in Sydney is partly cloudy with a temperature of 26.4°C (79.5°F). The wind is blowing from the east at a speed of 4.3 km/h, and there is a 75% cloud cover. The humidity level is at 74%, and there has been some precipitation measuring 1.43 mm. It feels like 29.9°C (85.7°F) with a wind chill of 22.0°C (71.7°F).\u001b[0m\n",
      "\n",
      "\u001b[1m> Finished chain.\u001b[0m\n"
     ]
    },
    {
     "data": {
      "text/plain": [
       "{'input': 'How is the weather in Sydney right now?',\n",
       " 'output': 'The current weather in Sydney is partly cloudy with a temperature of 26.4°C (79.5°F). The wind is blowing from the east at a speed of 4.3 km/h, and there is a 75% cloud cover. The humidity level is at 74%, and there has been some precipitation measuring 1.43 mm. It feels like 29.9°C (85.7°F) with a wind chill of 22.0°C (71.7°F).'}"
      ]
     },
     "execution_count": 13,
     "metadata": {},
     "output_type": "execute_result"
    }
   ],
   "source": [
    "agent_executor.invoke({\"input\":\"How is the weather in Sydney right now?\"})"
   ]
  },
  {
   "cell_type": "markdown",
   "metadata": {},
   "source": [
    "### - Open-source based"
   ]
  },
  {
   "cell_type": "code",
   "execution_count": 12,
   "metadata": {},
   "outputs": [
    {
     "name": "stderr",
     "output_type": "stream",
     "text": [
      "C:\\Users\\Admin\\AppData\\Local\\Temp\\ipykernel_14324\\1293561915.py:2: LangChainDeprecationWarning: The method `Chain.run` was deprecated in langchain 0.1.0 and will be removed in 1.0. Use :meth:`~invoke` instead.\n",
      "  agent.run(\"What is the mission of DASA?\")\n"
     ]
    },
    {
     "name": "stdout",
     "output_type": "stream",
     "text": [
      "\n",
      "\n",
      "\u001b[1m> Entering new AgentExecutor chain...\u001b[0m\n"
     ]
    },
    {
     "ename": "ValueError",
     "evalue": "Missing some input keys: {'page_content', 'input'}",
     "output_type": "error",
     "traceback": [
      "\u001b[1;31m---------------------------------------------------------------------------\u001b[0m",
      "\u001b[1;31mValueError\u001b[0m                                Traceback (most recent call last)",
      "Cell \u001b[1;32mIn[12], line 2\u001b[0m\n\u001b[0;32m      1\u001b[0m \u001b[38;5;66;03m# Test the agent\u001b[39;00m\n\u001b[1;32m----> 2\u001b[0m \u001b[43magent\u001b[49m\u001b[38;5;241;43m.\u001b[39;49m\u001b[43mrun\u001b[49m\u001b[43m(\u001b[49m\u001b[38;5;124;43m\"\u001b[39;49m\u001b[38;5;124;43mWhat is the mission of DASA?\u001b[39;49m\u001b[38;5;124;43m\"\u001b[39;49m\u001b[43m)\u001b[49m\n",
      "File \u001b[1;32mc:\\Users\\Admin\\Desktop\\AIPoint Projects\\AI Agent Development\\.venv\\Lib\\site-packages\\langchain_core\\_api\\deprecation.py:181\u001b[0m, in \u001b[0;36mdeprecated.<locals>.deprecate.<locals>.warning_emitting_wrapper\u001b[1;34m(*args, **kwargs)\u001b[0m\n\u001b[0;32m    179\u001b[0m     warned \u001b[38;5;241m=\u001b[39m \u001b[38;5;28;01mTrue\u001b[39;00m\n\u001b[0;32m    180\u001b[0m     emit_warning()\n\u001b[1;32m--> 181\u001b[0m \u001b[38;5;28;01mreturn\u001b[39;00m \u001b[43mwrapped\u001b[49m\u001b[43m(\u001b[49m\u001b[38;5;241;43m*\u001b[39;49m\u001b[43margs\u001b[49m\u001b[43m,\u001b[49m\u001b[43m \u001b[49m\u001b[38;5;241;43m*\u001b[39;49m\u001b[38;5;241;43m*\u001b[39;49m\u001b[43mkwargs\u001b[49m\u001b[43m)\u001b[49m\n",
      "File \u001b[1;32mc:\\Users\\Admin\\Desktop\\AIPoint Projects\\AI Agent Development\\.venv\\Lib\\site-packages\\langchain\\chains\\base.py:606\u001b[0m, in \u001b[0;36mChain.run\u001b[1;34m(self, callbacks, tags, metadata, *args, **kwargs)\u001b[0m\n\u001b[0;32m    604\u001b[0m     \u001b[38;5;28;01mif\u001b[39;00m \u001b[38;5;28mlen\u001b[39m(args) \u001b[38;5;241m!=\u001b[39m \u001b[38;5;241m1\u001b[39m:\n\u001b[0;32m    605\u001b[0m         \u001b[38;5;28;01mraise\u001b[39;00m \u001b[38;5;167;01mValueError\u001b[39;00m(\u001b[38;5;124m\"\u001b[39m\u001b[38;5;124m`run` supports only one positional argument.\u001b[39m\u001b[38;5;124m\"\u001b[39m)\n\u001b[1;32m--> 606\u001b[0m     \u001b[38;5;28;01mreturn\u001b[39;00m \u001b[38;5;28;43mself\u001b[39;49m\u001b[43m(\u001b[49m\u001b[43margs\u001b[49m\u001b[43m[\u001b[49m\u001b[38;5;241;43m0\u001b[39;49m\u001b[43m]\u001b[49m\u001b[43m,\u001b[49m\u001b[43m \u001b[49m\u001b[43mcallbacks\u001b[49m\u001b[38;5;241;43m=\u001b[39;49m\u001b[43mcallbacks\u001b[49m\u001b[43m,\u001b[49m\u001b[43m \u001b[49m\u001b[43mtags\u001b[49m\u001b[38;5;241;43m=\u001b[39;49m\u001b[43mtags\u001b[49m\u001b[43m,\u001b[49m\u001b[43m \u001b[49m\u001b[43mmetadata\u001b[49m\u001b[38;5;241;43m=\u001b[39;49m\u001b[43mmetadata\u001b[49m\u001b[43m)\u001b[49m[\n\u001b[0;32m    607\u001b[0m         _output_key\n\u001b[0;32m    608\u001b[0m     ]\n\u001b[0;32m    610\u001b[0m \u001b[38;5;28;01mif\u001b[39;00m kwargs \u001b[38;5;129;01mand\u001b[39;00m \u001b[38;5;129;01mnot\u001b[39;00m args:\n\u001b[0;32m    611\u001b[0m     \u001b[38;5;28;01mreturn\u001b[39;00m \u001b[38;5;28mself\u001b[39m(kwargs, callbacks\u001b[38;5;241m=\u001b[39mcallbacks, tags\u001b[38;5;241m=\u001b[39mtags, metadata\u001b[38;5;241m=\u001b[39mmetadata)[\n\u001b[0;32m    612\u001b[0m         _output_key\n\u001b[0;32m    613\u001b[0m     ]\n",
      "File \u001b[1;32mc:\\Users\\Admin\\Desktop\\AIPoint Projects\\AI Agent Development\\.venv\\Lib\\site-packages\\langchain_core\\_api\\deprecation.py:181\u001b[0m, in \u001b[0;36mdeprecated.<locals>.deprecate.<locals>.warning_emitting_wrapper\u001b[1;34m(*args, **kwargs)\u001b[0m\n\u001b[0;32m    179\u001b[0m     warned \u001b[38;5;241m=\u001b[39m \u001b[38;5;28;01mTrue\u001b[39;00m\n\u001b[0;32m    180\u001b[0m     emit_warning()\n\u001b[1;32m--> 181\u001b[0m \u001b[38;5;28;01mreturn\u001b[39;00m \u001b[43mwrapped\u001b[49m\u001b[43m(\u001b[49m\u001b[38;5;241;43m*\u001b[39;49m\u001b[43margs\u001b[49m\u001b[43m,\u001b[49m\u001b[43m \u001b[49m\u001b[38;5;241;43m*\u001b[39;49m\u001b[38;5;241;43m*\u001b[39;49m\u001b[43mkwargs\u001b[49m\u001b[43m)\u001b[49m\n",
      "File \u001b[1;32mc:\\Users\\Admin\\Desktop\\AIPoint Projects\\AI Agent Development\\.venv\\Lib\\site-packages\\langchain\\chains\\base.py:389\u001b[0m, in \u001b[0;36mChain.__call__\u001b[1;34m(self, inputs, return_only_outputs, callbacks, tags, metadata, run_name, include_run_info)\u001b[0m\n\u001b[0;32m    357\u001b[0m \u001b[38;5;250m\u001b[39m\u001b[38;5;124;03m\"\"\"Execute the chain.\u001b[39;00m\n\u001b[0;32m    358\u001b[0m \n\u001b[0;32m    359\u001b[0m \u001b[38;5;124;03mArgs:\u001b[39;00m\n\u001b[1;32m   (...)\u001b[0m\n\u001b[0;32m    380\u001b[0m \u001b[38;5;124;03m        `Chain.output_keys`.\u001b[39;00m\n\u001b[0;32m    381\u001b[0m \u001b[38;5;124;03m\"\"\"\u001b[39;00m\n\u001b[0;32m    382\u001b[0m config \u001b[38;5;241m=\u001b[39m {\n\u001b[0;32m    383\u001b[0m     \u001b[38;5;124m\"\u001b[39m\u001b[38;5;124mcallbacks\u001b[39m\u001b[38;5;124m\"\u001b[39m: callbacks,\n\u001b[0;32m    384\u001b[0m     \u001b[38;5;124m\"\u001b[39m\u001b[38;5;124mtags\u001b[39m\u001b[38;5;124m\"\u001b[39m: tags,\n\u001b[0;32m    385\u001b[0m     \u001b[38;5;124m\"\u001b[39m\u001b[38;5;124mmetadata\u001b[39m\u001b[38;5;124m\"\u001b[39m: metadata,\n\u001b[0;32m    386\u001b[0m     \u001b[38;5;124m\"\u001b[39m\u001b[38;5;124mrun_name\u001b[39m\u001b[38;5;124m\"\u001b[39m: run_name,\n\u001b[0;32m    387\u001b[0m }\n\u001b[1;32m--> 389\u001b[0m \u001b[38;5;28;01mreturn\u001b[39;00m \u001b[38;5;28;43mself\u001b[39;49m\u001b[38;5;241;43m.\u001b[39;49m\u001b[43minvoke\u001b[49m\u001b[43m(\u001b[49m\n\u001b[0;32m    390\u001b[0m \u001b[43m    \u001b[49m\u001b[43minputs\u001b[49m\u001b[43m,\u001b[49m\n\u001b[0;32m    391\u001b[0m \u001b[43m    \u001b[49m\u001b[43mcast\u001b[49m\u001b[43m(\u001b[49m\u001b[43mRunnableConfig\u001b[49m\u001b[43m,\u001b[49m\u001b[43m \u001b[49m\u001b[43m{\u001b[49m\u001b[43mk\u001b[49m\u001b[43m:\u001b[49m\u001b[43m \u001b[49m\u001b[43mv\u001b[49m\u001b[43m \u001b[49m\u001b[38;5;28;43;01mfor\u001b[39;49;00m\u001b[43m \u001b[49m\u001b[43mk\u001b[49m\u001b[43m,\u001b[49m\u001b[43m \u001b[49m\u001b[43mv\u001b[49m\u001b[43m \u001b[49m\u001b[38;5;129;43;01min\u001b[39;49;00m\u001b[43m \u001b[49m\u001b[43mconfig\u001b[49m\u001b[38;5;241;43m.\u001b[39;49m\u001b[43mitems\u001b[49m\u001b[43m(\u001b[49m\u001b[43m)\u001b[49m\u001b[43m \u001b[49m\u001b[38;5;28;43;01mif\u001b[39;49;00m\u001b[43m \u001b[49m\u001b[43mv\u001b[49m\u001b[43m \u001b[49m\u001b[38;5;129;43;01mis\u001b[39;49;00m\u001b[43m \u001b[49m\u001b[38;5;129;43;01mnot\u001b[39;49;00m\u001b[43m \u001b[49m\u001b[38;5;28;43;01mNone\u001b[39;49;00m\u001b[43m}\u001b[49m\u001b[43m)\u001b[49m\u001b[43m,\u001b[49m\n\u001b[0;32m    392\u001b[0m \u001b[43m    \u001b[49m\u001b[43mreturn_only_outputs\u001b[49m\u001b[38;5;241;43m=\u001b[39;49m\u001b[43mreturn_only_outputs\u001b[49m\u001b[43m,\u001b[49m\n\u001b[0;32m    393\u001b[0m \u001b[43m    \u001b[49m\u001b[43minclude_run_info\u001b[49m\u001b[38;5;241;43m=\u001b[39;49m\u001b[43minclude_run_info\u001b[49m\u001b[43m,\u001b[49m\n\u001b[0;32m    394\u001b[0m \u001b[43m\u001b[49m\u001b[43m)\u001b[49m\n",
      "File \u001b[1;32mc:\\Users\\Admin\\Desktop\\AIPoint Projects\\AI Agent Development\\.venv\\Lib\\site-packages\\langchain\\chains\\base.py:170\u001b[0m, in \u001b[0;36mChain.invoke\u001b[1;34m(self, input, config, **kwargs)\u001b[0m\n\u001b[0;32m    168\u001b[0m \u001b[38;5;28;01mexcept\u001b[39;00m \u001b[38;5;167;01mBaseException\u001b[39;00m \u001b[38;5;28;01mas\u001b[39;00m e:\n\u001b[0;32m    169\u001b[0m     run_manager\u001b[38;5;241m.\u001b[39mon_chain_error(e)\n\u001b[1;32m--> 170\u001b[0m     \u001b[38;5;28;01mraise\u001b[39;00m e\n\u001b[0;32m    171\u001b[0m run_manager\u001b[38;5;241m.\u001b[39mon_chain_end(outputs)\n\u001b[0;32m    173\u001b[0m \u001b[38;5;28;01mif\u001b[39;00m include_run_info:\n",
      "File \u001b[1;32mc:\\Users\\Admin\\Desktop\\AIPoint Projects\\AI Agent Development\\.venv\\Lib\\site-packages\\langchain\\chains\\base.py:158\u001b[0m, in \u001b[0;36mChain.invoke\u001b[1;34m(self, input, config, **kwargs)\u001b[0m\n\u001b[0;32m    151\u001b[0m run_manager \u001b[38;5;241m=\u001b[39m callback_manager\u001b[38;5;241m.\u001b[39mon_chain_start(\n\u001b[0;32m    152\u001b[0m     \u001b[38;5;28;01mNone\u001b[39;00m,\n\u001b[0;32m    153\u001b[0m     inputs,\n\u001b[0;32m    154\u001b[0m     run_id,\n\u001b[0;32m    155\u001b[0m     name\u001b[38;5;241m=\u001b[39mrun_name,\n\u001b[0;32m    156\u001b[0m )\n\u001b[0;32m    157\u001b[0m \u001b[38;5;28;01mtry\u001b[39;00m:\n\u001b[1;32m--> 158\u001b[0m     \u001b[38;5;28;43mself\u001b[39;49m\u001b[38;5;241;43m.\u001b[39;49m\u001b[43m_validate_inputs\u001b[49m\u001b[43m(\u001b[49m\u001b[43minputs\u001b[49m\u001b[43m)\u001b[49m\n\u001b[0;32m    159\u001b[0m     outputs \u001b[38;5;241m=\u001b[39m (\n\u001b[0;32m    160\u001b[0m         \u001b[38;5;28mself\u001b[39m\u001b[38;5;241m.\u001b[39m_call(inputs, run_manager\u001b[38;5;241m=\u001b[39mrun_manager)\n\u001b[0;32m    161\u001b[0m         \u001b[38;5;28;01mif\u001b[39;00m new_arg_supported\n\u001b[0;32m    162\u001b[0m         \u001b[38;5;28;01melse\u001b[39;00m \u001b[38;5;28mself\u001b[39m\u001b[38;5;241m.\u001b[39m_call(inputs)\n\u001b[0;32m    163\u001b[0m     )\n\u001b[0;32m    165\u001b[0m     final_outputs: Dict[\u001b[38;5;28mstr\u001b[39m, Any] \u001b[38;5;241m=\u001b[39m \u001b[38;5;28mself\u001b[39m\u001b[38;5;241m.\u001b[39mprep_outputs(\n\u001b[0;32m    166\u001b[0m         inputs, outputs, return_only_outputs\n\u001b[0;32m    167\u001b[0m     )\n",
      "File \u001b[1;32mc:\\Users\\Admin\\Desktop\\AIPoint Projects\\AI Agent Development\\.venv\\Lib\\site-packages\\langchain\\chains\\base.py:290\u001b[0m, in \u001b[0;36mChain._validate_inputs\u001b[1;34m(self, inputs)\u001b[0m\n\u001b[0;32m    288\u001b[0m missing_keys \u001b[38;5;241m=\u001b[39m \u001b[38;5;28mset\u001b[39m(\u001b[38;5;28mself\u001b[39m\u001b[38;5;241m.\u001b[39minput_keys)\u001b[38;5;241m.\u001b[39mdifference(inputs)\n\u001b[0;32m    289\u001b[0m \u001b[38;5;28;01mif\u001b[39;00m missing_keys:\n\u001b[1;32m--> 290\u001b[0m     \u001b[38;5;28;01mraise\u001b[39;00m \u001b[38;5;167;01mValueError\u001b[39;00m(\u001b[38;5;124mf\u001b[39m\u001b[38;5;124m\"\u001b[39m\u001b[38;5;124mMissing some input keys: \u001b[39m\u001b[38;5;132;01m{\u001b[39;00mmissing_keys\u001b[38;5;132;01m}\u001b[39;00m\u001b[38;5;124m\"\u001b[39m)\n",
      "\u001b[1;31mValueError\u001b[0m: Missing some input keys: {'page_content', 'input'}"
     ]
    }
   ],
   "source": [
    "# Test the agent\n",
    "agent.run(\"What is the mission of DASA?\")"
   ]
  },
  {
   "cell_type": "code",
   "execution_count": null,
   "metadata": {},
   "outputs": [],
   "source": []
  }
 ],
 "metadata": {
  "kernelspec": {
   "display_name": ".venv",
   "language": "python",
   "name": "python3"
  },
  "language_info": {
   "codemirror_mode": {
    "name": "ipython",
    "version": 3
   },
   "file_extension": ".py",
   "mimetype": "text/x-python",
   "name": "python",
   "nbconvert_exporter": "python",
   "pygments_lexer": "ipython3",
   "version": "3.12.1"
  }
 },
 "nbformat": 4,
 "nbformat_minor": 2
}
